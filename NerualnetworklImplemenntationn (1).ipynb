{
 "cells": [
  {
   "cell_type": "code",
   "execution_count": 1,
   "id": "11e2d583-7445-4c41-85cc-b0956ea59527",
   "metadata": {
    "id": "11e2d583-7445-4c41-85cc-b0956ea59527"
   },
   "outputs": [],
   "source": [
    "from sklearn.preprocessing import MinMaxScaler\n",
    "import numpy as np\n",
    "import matplotlib.pyplot as plt\n",
    "\n",
    "import warnings\n",
    "warnings.filterwarnings(\"ignore\")\n",
    "\n",
    "%matplotlib inline"
   ]
  },
  {
   "cell_type": "code",
   "execution_count": 2,
   "id": "18569155-fcb5-40a2-b0fb-1b9dbd7ecc0f",
   "metadata": {
    "id": "18569155-fcb5-40a2-b0fb-1b9dbd7ecc0f"
   },
   "outputs": [],
   "source": [
    "# 1.  Input Data\n",
    "# 2.  OutPut Data\n",
    "# 3.  Predicted Result/Data\n",
    "# 4.  Test data\n",
    "\n",
    "\n",
    "#            Train Data\n",
    "input_train_data = np.array([[0, 1, 0],\n",
    "                           [0, 1, 1], \n",
    "                           [0, 0, 0],\n",
    "                           [10, 0, 0], \n",
    "                           [10, 1, 1], \n",
    "                           [10, 0, 1]])\n",
    "\n",
    "out_train_data = np.array([[0], [0], [0], [1], [1], [1]])\n",
    "\n",
    "input_data_prediction = np.array([1, 1, 0])\n",
    "\n",
    "\n",
    "\n",
    "#         Test Data\n",
    "\n",
    "input_test_data = np.array([[1, 1, 1],\n",
    "                           [10, 0, 1], \n",
    "                           [0, 1, 10],\n",
    "                           [10, 1, 10], \n",
    "                           [0, 0, 0], \n",
    "                           [0, 1, 1]])\n",
    "\n",
    "out_test_data = np.array([[0], [0], [0], [1], [1], [1]])"
   ]
  },
  {
   "cell_type": "code",
   "execution_count": 3,
   "id": "052e1f46-6899-4f70-a65a-ab8d3c672bdd",
   "metadata": {
    "id": "052e1f46-6899-4f70-a65a-ab8d3c672bdd"
   },
   "outputs": [],
   "source": [
    "scaller = MinMaxScaler()"
   ]
  },
  {
   "cell_type": "code",
   "execution_count": 4,
   "id": "ff24af31-9bd7-4c64-8306-9919232003e7",
   "metadata": {
    "id": "ff24af31-9bd7-4c64-8306-9919232003e7"
   },
   "outputs": [],
   "source": [
    "input_train_data_scaled = scaller.fit_transform(input_train_data)\n",
    "input_test_data_scaled = scaller.fit_transform(input_test_data)\n",
    "\n",
    "out_train_data_scaled = scaller.fit_transform(out_train_data)\n",
    "out_test_data_scaled = scaller.fit_transform(out_test_data)"
   ]
  },
  {
   "cell_type": "code",
   "execution_count": 5,
   "id": "5f56b7d1-ec30-4105-9558-58bdbc3d9d39",
   "metadata": {
    "id": "5f56b7d1-ec30-4105-9558-58bdbc3d9d39",
    "outputId": "1b702852-0ec5-42fb-cc8b-a783d9e2a775"
   },
   "outputs": [
    {
     "name": "stdout",
     "output_type": "stream",
     "text": [
      "Input TrainScalled Data:  [[0. 1. 0.]\n",
      " [0. 1. 1.]\n",
      " [0. 0. 0.]\n",
      " [1. 0. 0.]\n",
      " [1. 1. 1.]\n",
      " [1. 0. 1.]]\n",
      "\n",
      " Input Test Scalled Data:  [[0.1 1.  0.1]\n",
      " [1.  0.  0.1]\n",
      " [0.  1.  1. ]\n",
      " [1.  1.  1. ]\n",
      " [0.  0.  0. ]\n",
      " [0.  1.  0.1]]\n",
      "\n",
      " Output Train Scalled Data:  [[0.]\n",
      " [0.]\n",
      " [0.]\n",
      " [1.]\n",
      " [1.]\n",
      " [1.]]\n",
      "\n",
      "Output test Scalled Data:  [[0.]\n",
      " [0.]\n",
      " [0.]\n",
      " [1.]\n",
      " [1.]\n",
      " [1.]]\n"
     ]
    }
   ],
   "source": [
    "print(\"Input TrainScalled Data: \", input_train_data_scaled)\n",
    "print(\"\\n Input Test Scalled Data: \", input_test_data_scaled )\n",
    "\n",
    "print(\"\\n Output Train Scalled Data: \", out_train_data_scaled)\n",
    "print(\"\\nOutput test Scalled Data: \", out_test_data_scaled)"
   ]
  },
  {
   "cell_type": "code",
   "execution_count": 6,
   "id": "3f06c737-b2bd-4910-b619-1649535f30cd",
   "metadata": {
    "id": "3f06c737-b2bd-4910-b619-1649535f30cd"
   },
   "outputs": [],
   "source": [
    "#.npy\n",
    "\n",
    "np.save(\"SavedData/input_train_data_scaled.npy\", input_train_data_scaled)\n",
    "np.save(\"SavedData/input_test_data_scaled.npy\",input_test_data_scaled)\n",
    "np.save(\"SavedData/input_data_prediction.npy\",input_data_prediction)\n",
    "\n",
    "np.save(\"SavedData/out_train_data_scaled.npy\", out_train_data_scaled)\n",
    "np.save(\"SavedData/out_test_data_scaled.npy\", out_test_data_scaled)"
   ]
  },
  {
   "cell_type": "code",
   "execution_count": 7,
   "id": "d373566a-9562-4946-ba89-3e29aa5bc2f7",
   "metadata": {
    "id": "d373566a-9562-4946-ba89-3e29aa5bc2f7"
   },
   "outputs": [],
   "source": [
    "class Neuralnetwork():\n",
    "    \n",
    "    def __init__(self):\n",
    "        \n",
    "        self.inputSize = 3\n",
    "        self.hiddenSize = 3\n",
    "        self.outputSize = 1\n",
    "        \n",
    "        \n",
    "        self.W1 = np.random.rand(self.inputSize, self.hiddenSize)\n",
    "        self.W2 = np.random.rand(self.hiddenSize, self.outputSize)\n",
    "        self.limit = 0.5\n",
    "        \n",
    "        \n",
    "        self.error_list = []\n",
    "        \n",
    "        self.true_positives = 0\n",
    "        self.true_negatives = 0\n",
    "        self.false_positives = 0\n",
    "        self.false_negatives = 0\n",
    "        \n",
    "    def forward(self, X):\n",
    "        self.z = np.matmul(X, self.W1)\n",
    "        self.z2 = self.sigmoid(self.z)\n",
    "        self.z3 = np.matmul(self.z2, self.W2)\n",
    "        o = self.sigmoid(self.z3)\n",
    "        return o\n",
    "        \n",
    "        \n",
    "    def sigmoid(self, s):\n",
    "        return 1 / (1+ np.exp(-s))\n",
    "        \n",
    "    \n",
    "    def sigmoidPrime(self, s):\n",
    "        return s*(1-s)\n",
    "    \n",
    "    \n",
    "    \n",
    "    def backward(self, X, y, o):\n",
    "        self.o_error = y - o\n",
    "        self.o_delta = self.o_error *  self.sigmoidPrime(o)\n",
    "        \n",
    "        self.z2_error = np.matmul(self.o_delta, np.matrix.transpose(self.W2))\n",
    "        self.z2_delta = self.z2_error * self.sigmoidPrime(self.z2_error)\n",
    "        \n",
    "        self.W1 += np.matmul(np.matrix.transpose(X),self.z2_delta)\n",
    "        self.W2 += np.matmul(np.matrix.transpose(self.z), self.o_delta)\n",
    "        \n",
    "        \n",
    "    def train(self, X, y, epochs):\n",
    "        for epoch in range(epochs):\n",
    "            o = self.forward(X)\n",
    "            self.backward(X, y, o)\n",
    "            self.error_list.append(np.abs(self.o_error).mean()) # see line number 15\n",
    "            \n",
    "            \n",
    "    def predict(self, x_test_data):\n",
    "        return self.forward(x_test_data).item()\n",
    "        \n",
    "    \n",
    "    def error_visualization(self):\n",
    "        \n",
    "        plt.plot(range(len(self.error_list)), self.error_list)\n",
    "        plt.title(\"Error Visulatization\")\n",
    "        plt.xlabel(\"epochs\")\n",
    "        plt.ylabel(\"Loss Value\")\n",
    "        \n",
    "        \n",
    "        \n",
    "    def evaluate(self, input_Data, output_Data):\n",
    "        for i , testingEvaluation in enumerate(input_Data):\n",
    "            \n",
    "            if self.predict(testingEvaluation) > self.limit and output_Data[i] == 1:\n",
    "                self.true_positives +=1\n",
    "            if self.predict(testingEvaluation) < self.limit and output_Data[i] == 1:\n",
    "                self.true_negatives +=1\n",
    "            if self.predict(testingEvaluation) > self.limit and output_Data[i] == 0:\n",
    "                self.false_positives += 1\n",
    "            if self.predict(testingEvaluation) < self.limit and output_Data[i] == 0:\n",
    "                self.false_negatives +=1\n",
    "                \n",
    "                \n",
    "        print(\"True Positive Values:\", self.true_positives)\n",
    "        print(\"True negatives Values:\", self.true_negatives)\n",
    "        print(\"False Positive Values:\", self.false_positives)\n",
    "        print(\"False negatives Values\", self.false_negatives)\n",
    "        \n",
    "        \n",
    "    "
   ]
  },
  {
   "cell_type": "code",
   "execution_count": 8,
   "id": "9bf61991-0d83-4af2-b81f-b4ab001a872c",
   "metadata": {},
   "outputs": [],
   "source": [
    "#.npy\n",
    "\n",
    "train_scalled_data = np.load(\"SavedData/input_train_data_scaled.npy\")\n",
    "train_test_scalled_data = np.load(\"SavedData/input_test_data_scaled.npy\")\n",
    "prediction_scalled_data = np.load(\"SavedData/input_data_prediction.npy\")\n",
    "\n",
    "output_scalled_data = np.load(\"SavedData/out_train_data_scaled.npy\")\n",
    "output_testscalled_data = np.load(\"SavedData/out_test_data_scaled.npy\")"
   ]
  },
  {
   "cell_type": "code",
   "execution_count": 9,
   "id": "e1744ccf-94c1-4b18-aa6c-094e6881798c",
   "metadata": {},
   "outputs": [
    {
     "name": "stdout",
     "output_type": "stream",
     "text": [
      "True Positive Values: 3\n",
      "True negatives Values: 0\n",
      "False Positive Values: 3\n",
      "False negatives Values 0\n"
     ]
    },
    {
     "data": {
      "image/png": "[encoded data removed]",
      "text/plain": [
       "<Figure size 432x288 with 1 Axes>"
      ]
     },
     "metadata": {
      "needs_background": "light"
     },
     "output_type": "display_data"
    }
   ],
   "source": [
    "Network = Neuralnetwork()\n",
    "Network.train(input_train_data_scaled, output_scalled_data, 100)\n",
    "Network.predict(prediction_scalled_data)\n",
    "Network.error_visualization()\n",
    "Network.evaluate(input_test_data_scaled, out_test_data_scaled)"
   ]
  },
  {
   "cell_type": "code",
   "execution_count": 10,
   "id": "a0dc7e9b-fbad-41f9-8860-776fa6acf96a",
   "metadata": {},
   "outputs": [],
   "source": [
    "import numpy as np\n",
    "from tensorflow.keras.models import Sequential\n",
    "from tensorflow.keras.layers import Dense"
   ]
  },
  {
   "cell_type": "code",
   "execution_count": 11,
   "id": "ef0504dc-5a9b-4b06-8c42-b4d459546b6a",
   "metadata": {},
   "outputs": [],
   "source": [
    "trainingData = np.array([[0, 0], [0, 1], [1, 0], [1, 1]], 'float32') \n",
    "TestingData = np.array([[0], [1], [1], [0]], 'float32')\n",
    "\n",
    "\n"
   ]
  },
  {
   "cell_type": "code",
   "execution_count": 12,
   "id": "0326f0f5-453e-4c45-8467-cfdd1c4b4f2a",
   "metadata": {},
   "outputs": [
    {
     "name": "stdout",
     "output_type": "stream",
     "text": [
      "(4, 2)\n",
      "(4, 1)\n"
     ]
    }
   ],
   "source": [
    "print(trainingData.shape)\n",
    "print(TestingData.shape)"
   ]
  },
  {
   "cell_type": "code",
   "execution_count": 13,
   "id": "e2d1fe4d-aecd-4179-ad81-ffe6edfc25ab",
   "metadata": {},
   "outputs": [
    {
     "name": "stdout",
     "output_type": "stream",
     "text": [
      "Epoch 1/10\n",
      "1/1 [==============================] - 0s 476ms/step - loss: 0.2404 - binary_accuracy: 0.7500\n",
      "Epoch 2/10\n",
      "1/1 [==============================] - 0s 22ms/step - loss: 0.2399 - binary_accuracy: 0.5000\n",
      "Epoch 3/10\n",
      "1/1 [==============================] - 0s 8ms/step - loss: 0.2394 - binary_accuracy: 0.7500\n",
      "Epoch 4/10\n",
      "1/1 [==============================] - 0s 11ms/step - loss: 0.2388 - binary_accuracy: 0.7500\n",
      "Epoch 5/10\n",
      "1/1 [==============================] - 0s 8ms/step - loss: 0.2383 - binary_accuracy: 0.7500\n",
      "Epoch 6/10\n",
      "1/1 [==============================] - 0s 5ms/step - loss: 0.2378 - binary_accuracy: 0.7500\n",
      "Epoch 7/10\n",
      "1/1 [==============================] - 0s 10ms/step - loss: 0.2373 - binary_accuracy: 0.7500\n",
      "Epoch 8/10\n",
      "1/1 [==============================] - 0s 9ms/step - loss: 0.2368 - binary_accuracy: 0.7500\n",
      "Epoch 9/10\n",
      "1/1 [==============================] - 0s 9ms/step - loss: 0.2363 - binary_accuracy: 0.7500\n",
      "Epoch 10/10\n",
      "1/1 [==============================] - 0s 10ms/step - loss: 0.2359 - binary_accuracy: 0.7500\n",
      "1/1 [==============================] - 0s 139ms/step - loss: 0.2354 - binary_accuracy: 0.7500\n"
     ]
    }
   ],
   "source": [
    "model = Sequential()\n",
    "\n",
    "# # First Layer\n",
    "\n",
    "# model.addd(Conv2D())\n",
    "# model.add(MaxPooling2D)\n",
    "# model.Dropout()\n",
    "\n",
    "# # Hidden Layer 0\n",
    "# model.addd(Conv2D())\n",
    "# model.add(MaxPooling2D)\n",
    "# model.Dropout()\n",
    "\n",
    "# # Hidden Layer 02\n",
    "\n",
    "# model.addd(Conv2D())\n",
    "# model.add(MaxPooling2D)\n",
    "# model.Dropout()\n",
    "\n",
    "\n",
    "# # Output Layer or Connected Layer 01\n",
    "# FCNN\n",
    "\n",
    "model.add(Dense(32, input_dim = 2, activation = 'relu'))\n",
    "model.add(Dense(1, activation = 'sigmoid'))\n",
    "\n",
    "\n",
    "model.compile(loss = 'mean_squared_error',\n",
    "            optimizer = 'adam',\n",
    "            metrics = ['binary_accuracy'])\n",
    "\n",
    "model.fit(trainingData, TestingData, epochs = 10)\n",
    "result = model.evaluate(trainingData, TestingData)\n"
   ]
  },
  {
   "cell_type": "raw",
   "id": "99e86bd1-91c9-45ad-acf4-a62939d94f9a",
   "metadata": {},
   "source": [
    "model.predict(trainingData.round())"
   ]
  }
 ],
 "metadata": {
  "colab": {
   "name": "NerualnetworklImplemenntationn.ipynb",
   "provenance": []
  },
  "kernelspec": {
   "display_name": "Python 3 (ipykernel)",
   "language": "python",
   "name": "python3"
  },
  "language_info": {
   "codemirror_mode": {
    "name": "ipython",
    "version": 3
   },
   "file_extension": ".py",
   "mimetype": "text/x-python",
   "name": "python",
   "nbconvert_exporter": "python",
   "pygments_lexer": "ipython3",
   "version": "3.7.13"
  }
 },
 "nbformat": 4,
 "nbformat_minor": 5
}
